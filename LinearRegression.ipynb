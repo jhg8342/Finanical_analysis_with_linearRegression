{
 "cells": [
  {
   "cell_type": "code",
   "execution_count": 3,
   "id": "c9b46680",
   "metadata": {},
   "outputs": [],
   "source": [
    "from sklearn.linear_model import LinearRegression\n",
    "import pandas as pd\n",
    "import numpy as np\n",
    "import seaborn as sns\n",
    "import matplotlib.pyplot as plt\n",
    "import io\n",
    "from sklearn.model_selection import train_test_split\n",
    "from sklearn.metrics import mean_squared_error\n"
   ]
  },
  {
   "cell_type": "code",
   "execution_count": 4,
   "id": "16b8ddd7",
   "metadata": {},
   "outputs": [
    {
     "data": {
      "text/html": [
       "<div>\n",
       "<style scoped>\n",
       "    .dataframe tbody tr th:only-of-type {\n",
       "        vertical-align: middle;\n",
       "    }\n",
       "\n",
       "    .dataframe tbody tr th {\n",
       "        vertical-align: top;\n",
       "    }\n",
       "\n",
       "    .dataframe thead th {\n",
       "        text-align: right;\n",
       "    }\n",
       "</style>\n",
       "<table border=\"1\" class=\"dataframe\">\n",
       "  <thead>\n",
       "    <tr style=\"text-align: right;\">\n",
       "      <th></th>\n",
       "      <th>pop</th>\n",
       "      <th>crime</th>\n",
       "      <th>growth</th>\n",
       "    </tr>\n",
       "  </thead>\n",
       "  <tbody>\n",
       "    <tr>\n",
       "      <th>0</th>\n",
       "      <td>0.6365</td>\n",
       "      <td>0.3138</td>\n",
       "      <td>-0.34</td>\n",
       "    </tr>\n",
       "    <tr>\n",
       "      <th>1</th>\n",
       "      <td>1.3131</td>\n",
       "      <td>0.3071</td>\n",
       "      <td>-0.16</td>\n",
       "    </tr>\n",
       "    <tr>\n",
       "      <th>2</th>\n",
       "      <td>1.0668</td>\n",
       "      <td>0.2967</td>\n",
       "      <td>-0.11</td>\n",
       "    </tr>\n",
       "    <tr>\n",
       "      <th>3</th>\n",
       "      <td>1.7136</td>\n",
       "      <td>0.2194</td>\n",
       "      <td>-0.06</td>\n",
       "    </tr>\n",
       "    <tr>\n",
       "      <th>4</th>\n",
       "      <td>2.0586</td>\n",
       "      <td>0.3619</td>\n",
       "      <td>-0.07</td>\n",
       "    </tr>\n",
       "  </tbody>\n",
       "</table>\n",
       "</div>"
      ],
      "text/plain": [
       "      pop   crime  growth\n",
       "0  0.6365  0.3138   -0.34\n",
       "1  1.3131  0.3071   -0.16\n",
       "2  1.0668  0.2967   -0.11\n",
       "3  1.7136  0.2194   -0.06\n",
       "4  2.0586  0.3619   -0.07"
      ]
     },
     "execution_count": 4,
     "metadata": {},
     "output_type": "execute_result"
    }
   ],
   "source": [
    "\n",
    "import numpy as np\n",
    "import pandas as pd\n",
    "#data 파일위치\n",
    "path = \"파일위치\"\n",
    "df = pd.read_csv(path, index_col=0)\n",
    "\n",
    "df.head()\n"
   ]
  },
  {
   "cell_type": "code",
   "execution_count": 5,
   "id": "6940c393",
   "metadata": {
    "scrolled": true
   },
   "outputs": [
    {
     "data": {
      "image/png": "[encoded data removed]",
      "text/plain": [
       "<Figure size 432x288 with 1 Axes>"
      ]
     },
     "metadata": {
      "needs_background": "light"
     },
     "output_type": "display_data"
    },
    {
     "name": "stdout",
     "output_type": "stream",
     "text": [
      "x =  [[0.6365]\n",
      " [1.3131]\n",
      " [1.0668]\n",
      " [1.7136]\n",
      " [2.0586]\n",
      " [2.4873]\n",
      " [2.1092]\n",
      " [1.7983]\n",
      " [1.2614]\n",
      " [1.5205]\n",
      " [1.4335]\n",
      " [1.5838]\n",
      " [1.8129]\n",
      " [1.5745]\n",
      " [2.5509]\n",
      " [1.3862]\n",
      " [2.0794]\n",
      " [1.8649]\n",
      " [1.6215]\n",
      " [2.387 ]\n",
      " [1.6951]\n",
      " [0.8696]\n",
      " [1.3522]\n",
      " [1.9616]\n",
      " [1.8871]]\n",
      "x.shape=  (25, 1)\n",
      "\n",
      "y =  [[0.3138]\n",
      " [0.3071]\n",
      " [0.2967]\n",
      " [0.2194]\n",
      " [0.3619]\n",
      " [0.3253]\n",
      " [0.3599]\n",
      " [0.2749]\n",
      " [0.2832]\n",
      " [0.2141]\n",
      " [0.3896]\n",
      " [0.3487]\n",
      " [0.2374]\n",
      " [0.4096]\n",
      " [0.3169]\n",
      " [0.4663]\n",
      " [0.3857]\n",
      " [0.2577]\n",
      " [0.4819]\n",
      " [0.2735]\n",
      " [0.4879]\n",
      " [0.4459]\n",
      " [0.6947]\n",
      " [0.5167]\n",
      " [0.3711]]\n",
      "y.shape=  (25, 1)\n"
     ]
    }
   ],
   "source": [
    "## 코스피와 코스피 선물간의 상관계수 및 그래프\n",
    "\n",
    "kospifuture = df[\"KOSPIfuture\"]\n",
    "kospi = df[\"KOSPI\"]\n",
    "snpfuture = df[\"SP500futre\"]\n",
    "\n",
    "# nan 삭제\n",
    "df.isnull().any()\n",
    "\n",
    "df = df.dropna(axis=0).reset_index(drop=True)\n",
    "\n",
    "df.head()\n",
    "\n",
    "## 그래프 그리기\n",
    "plt.scatter(snpfuture, kospi)\n",
    "plt.xlabel('S&P500future')\n",
    "plt.ylabel('KOSPI')\n",
    "plt.show()\n",
    "\n",
    "\n"
   ]
  },
  {
   "cell_type": "code",
   "execution_count": 6,
   "id": "03cbe283",
   "metadata": {},
   "outputs": [
    {
     "name": "stdout",
     "output_type": "stream",
     "text": [
      "Epoch (         0/      5000) cost:   0.142345, W:   0.120092, b:  0.072319\n",
      "Epoch (       100/      5000) cost:   0.012251, W:   0.028795, b:  0.307168\n",
      "Epoch (       200/      5000) cost:   0.011444, W:  -0.013016, b:  0.381418\n",
      "Epoch (       300/      5000) cost:   0.011350, W:  -0.027300, b:  0.406784\n",
      "Epoch (       400/      5000) cost:   0.011339, W:  -0.032179, b:  0.415450\n",
      "Epoch (       500/      5000) cost:   0.011337, W:  -0.033846, b:  0.418410\n",
      "Epoch (       600/      5000) cost:   0.011337, W:  -0.034416, b:  0.419422\n",
      "Epoch (       700/      5000) cost:   0.011337, W:  -0.034611, b:  0.419767\n",
      "Epoch (       800/      5000) cost:   0.011337, W:  -0.034677, b:  0.419885\n",
      "Epoch (       900/      5000) cost:   0.011337, W:  -0.034700, b:  0.419926\n",
      "Epoch (      1000/      5000) cost:   0.011337, W:  -0.034707, b:  0.419940\n",
      "Epoch (      1100/      5000) cost:   0.011337, W:  -0.034710, b:  0.419944\n",
      "Epoch (      1200/      5000) cost:   0.011337, W:  -0.034711, b:  0.419946\n",
      "Epoch (      1300/      5000) cost:   0.011337, W:  -0.034711, b:  0.419946\n",
      "Epoch (      1400/      5000) cost:   0.011337, W:  -0.034711, b:  0.419947\n",
      "Epoch (      1500/      5000) cost:   0.011337, W:  -0.034711, b:  0.419947\n",
      "Epoch (      1600/      5000) cost:   0.011337, W:  -0.034711, b:  0.419947\n",
      "Epoch (      1700/      5000) cost:   0.011337, W:  -0.034711, b:  0.419947\n",
      "Epoch (      1800/      5000) cost:   0.011337, W:  -0.034711, b:  0.419947\n",
      "Epoch (      1900/      5000) cost:   0.011337, W:  -0.034711, b:  0.419947\n",
      "Epoch (      2000/      5000) cost:   0.011337, W:  -0.034711, b:  0.419947\n",
      "Epoch (      2100/      5000) cost:   0.011337, W:  -0.034711, b:  0.419947\n",
      "Epoch (      2200/      5000) cost:   0.011337, W:  -0.034711, b:  0.419947\n",
      "Epoch (      2300/      5000) cost:   0.011337, W:  -0.034711, b:  0.419947\n",
      "Epoch (      2400/      5000) cost:   0.011337, W:  -0.034711, b:  0.419947\n",
      "Epoch (      2500/      5000) cost:   0.011337, W:  -0.034711, b:  0.419947\n",
      "Epoch (      2600/      5000) cost:   0.011337, W:  -0.034711, b:  0.419947\n",
      "Epoch (      2700/      5000) cost:   0.011337, W:  -0.034711, b:  0.419947\n",
      "Epoch (      2800/      5000) cost:   0.011337, W:  -0.034711, b:  0.419947\n",
      "Epoch (      2900/      5000) cost:   0.011337, W:  -0.034711, b:  0.419947\n",
      "Epoch (      3000/      5000) cost:   0.011337, W:  -0.034711, b:  0.419947\n",
      "Epoch (      3100/      5000) cost:   0.011337, W:  -0.034711, b:  0.419947\n",
      "Epoch (      3200/      5000) cost:   0.011337, W:  -0.034711, b:  0.419947\n",
      "Epoch (      3300/      5000) cost:   0.011337, W:  -0.034711, b:  0.419947\n",
      "Epoch (      3400/      5000) cost:   0.011337, W:  -0.034711, b:  0.419947\n",
      "Epoch (      3500/      5000) cost:   0.011337, W:  -0.034711, b:  0.419947\n",
      "Epoch (      3600/      5000) cost:   0.011337, W:  -0.034711, b:  0.419947\n",
      "Epoch (      3700/      5000) cost:   0.011337, W:  -0.034711, b:  0.419947\n",
      "Epoch (      3800/      5000) cost:   0.011337, W:  -0.034711, b:  0.419947\n",
      "Epoch (      3900/      5000) cost:   0.011337, W:  -0.034711, b:  0.419947\n",
      "Epoch (      4000/      5000) cost:   0.011337, W:  -0.034711, b:  0.419947\n",
      "Epoch (      4100/      5000) cost:   0.011337, W:  -0.034711, b:  0.419947\n",
      "Epoch (      4200/      5000) cost:   0.011337, W:  -0.034711, b:  0.419947\n",
      "Epoch (      4300/      5000) cost:   0.011337, W:  -0.034711, b:  0.419947\n",
      "Epoch (      4400/      5000) cost:   0.011337, W:  -0.034711, b:  0.419947\n",
      "Epoch (      4500/      5000) cost:   0.011337, W:  -0.034711, b:  0.419947\n",
      "Epoch (      4600/      5000) cost:   0.011337, W:  -0.034711, b:  0.419947\n",
      "Epoch (      4700/      5000) cost:   0.011337, W:  -0.034711, b:  0.419947\n",
      "Epoch (      4800/      5000) cost:   0.011337, W:  -0.034711, b:  0.419947\n",
      "Epoch (      4900/      5000) cost:   0.011337, W:  -0.034711, b:  0.419947\n"
     ]
    }
   ],
   "source": [
    "x = np.array(kospifuture).reshape(len(kospifuture), 1)\n",
    "y = np.array(kospi).reshape(len(kospi), 1)\n",
    "\n",
    "print('x = ', x[:10])\n",
    "print('x.shape= ', x.shape)\n",
    "print('\\ny = ', y[:10])\n",
    "print('y.shape= ', y.shape"
   ]
  },
  {
   "cell_type": "code",
   "execution_count": 7,
   "id": "e1fc15f3",
   "metadata": {
    "scrolled": true
   },
   "outputs": [
    {
     "name": "stdout",
     "output_type": "stream",
     "text": [
      "W:  -0.034711\n",
      "b:   0.419947\n",
      "result : \n",
      "[[0.39785283]\n",
      " [0.37436705]\n",
      " [0.38291648]\n",
      " [0.3604651 ]\n",
      " [0.34848964]\n",
      " [0.33360883]\n",
      " [0.34673324]\n",
      " [0.35752504]\n",
      " [0.37616163]\n",
      " [0.36716789]\n",
      " [0.37018778]\n",
      " [0.36497065]\n",
      " [0.35701825]\n",
      " [0.36529347]\n",
      " [0.33140118]\n",
      " [0.37182964]\n",
      " [0.34776764]\n",
      " [0.35521325]\n",
      " [0.36366203]\n",
      " [0.33709039]\n",
      " [0.36110726]\n",
      " [0.38976159]\n",
      " [0.37300983]\n",
      " [0.35185665]\n",
      " [0.35444266]]\n"
     ]
    },
    {
     "data": {
      "image/png": "[encoded data removed]",
      "text/plain": [
       "<Figure size 432x288 with 1 Axes>"
      ]
     },
     "metadata": {
      "needs_background": "light"
     },
     "output_type": "display_data"
    }
   ],
   "source": [
    "W = 0.0\n",
    "b = 0.0\n",
    "\n",
    "n_data = len(x)  # 6\n",
    "epochs = 5000\n",
    "learning_rate = 0.1\n",
    "\n",
    "for i in range(epochs):\n",
    "    hypothesis = x * W + b\n",
    "    cost = np.sum((hypothesis - y) ** 2) / n_data\n",
    "    gradient_w = np.sum((W * x - y + b) * 2 * x) / n_data\n",
    "    gradient_b = np.sum((W * x - y + b) * 2) / n_data\n",
    "\n",
    "    W -= learning_rate * gradient_w\n",
    "    b -= learning_rate * gradient_b\n",
    "\n",
    "    if i % 100 == 0:\n",
    "        print('Epoch ({:10d}/{:10d}) cost: {:10f}, W: {:10f}, b:{:10f}'.format(i, epochs, cost, W, b))\n"
   ]
  },
  {
   "cell_type": "code",
   "execution_count": null,
   "id": "ebfc02c5",
   "metadata": {},
   "outputs": [],
   "source": [
    "print('W: {:10f}'.format(W))\n",
    "print('b: {:10f}'.format(b))\n",
    "print('result : ')\n",
    "print(x * W + b)\n",
    "\n",
    "\n",
    "plt.scatter(kospifuture, x*W + b)\n",
    "plt.xlabel('KOSPI future')\n",
    "plt.ylabel('KOSPI predict')\n",
    "plt.show()"
   ]
  },
  {
   "cell_type": "code",
   "execution_count": null,
   "id": "219c5a02",
   "metadata": {},
   "outputs": [],
   "source": [
    "df.corr()\n",
    "plt.matshow(arr)\n",
    "plt.colorbar()\n",
    "plt.show()"
   ]
  }
 ],
 "metadata": {
  "kernelspec": {
   "display_name": "Python 3 (ipykernel)",
   "language": "python",
   "name": "python3"
  },
  "language_info": {
   "codemirror_mode": {
    "name": "ipython",
    "version": 3
   },
   "file_extension": ".py",
   "mimetype": "text/x-python",
   "name": "python",
   "nbconvert_exporter": "python",
   "pygments_lexer": "ipython3",
   "version": "3.9.7"
  }
 },
 "nbformat": 4,
 "nbformat_minor": 5
}
